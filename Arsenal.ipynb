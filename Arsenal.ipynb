{
 "cells": [
  {
   "cell_type": "code",
   "execution_count": 6,
   "id": "a873e43f-9def-4d65-8004-b5320f97bcf5",
   "metadata": {},
   "outputs": [
    {
     "name": "stdout",
     "output_type": "stream",
     "text": [
      "1.83\n"
     ]
    }
   ],
   "source": [
    "#Data uptil Arsenal vs Brentford 19 Feb 2022\n",
    "Matches_played = 23\n",
    "Total_Points = 42\n",
    "Avg_Points = 42/23\n",
    "print(round(Avg_Points,2))"
   ]
  },
  {
   "cell_type": "code",
   "execution_count": 25,
   "id": "a00a186f-c0bf-4e6c-b178-3309f4a886c1",
   "metadata": {},
   "outputs": [
    {
     "name": "stdout",
     "output_type": "stream",
     "text": [
      "Total Points at the end of season if Arsenal sustain this average points per game metric: 70\n"
     ]
    }
   ],
   "source": [
    "Final_Points = 38 * 1.83\n",
    "print(\"Total Points at the end of season if Arsenal sustain this average points per game metric: \" +str(round(Final_Points)))"
   ]
  },
  {
   "cell_type": "markdown",
   "id": "169ec6d3-fc00-49d0-9311-bb2298287fe7",
   "metadata": {},
   "source": [
    "Now, to find out what position you would finish if you got 70 points in a season using Data from the past 6 seasons including the current one\n",
    "\n"
   ]
  },
  {
   "cell_type": "code",
   "execution_count": 3,
   "id": "7dfb1c65-39e5-4c4e-bc51-5849d90c3fee",
   "metadata": {},
   "outputs": [],
   "source": [
    "year = [2016-2017,2017-2018,2018-2019,2019-2020,2020-2021]\n",
    "position = [6,5,5,3,3]"
   ]
  },
  {
   "cell_type": "code",
   "execution_count": 21,
   "id": "d78761a8-6154-43ed-b56c-e72399a514de",
   "metadata": {},
   "outputs": [
    {
     "data": {
      "image/png": "[encoded data removed]",
      "text/plain": [
       "<Figure size 432x288 with 1 Axes>"
      ]
     },
     "metadata": {
      "needs_background": "light"
     },
     "output_type": "display_data"
    }
   ],
   "source": [
    "import matplotlib.pyplot as plt\n",
    "fig = plt.figure()\n",
    "year = [2017,2018,2019,2020,2021]\n",
    "position = [6,5,5,3,3]\n",
    "plt.scatter(year,position)\n",
    "plt.ylim(8,0)\n",
    "plt.xlim(2016,2022)\n",
    "plt.xlabel('Year') #Note 2017 denotes the season of 2016-2017\n",
    "plt.ylabel('Position')\n",
    "plt.title(\"Final position of team with 70 points over the last 5 prem seasons\")\n",
    "\n",
    "# Show the plot\n",
    "plt.show()"
   ]
  },
  {
   "cell_type": "markdown",
   "id": "43e68d94-fcb6-4d8f-855b-0fd8a932548a",
   "metadata": {},
   "source": [
    "Therefore we can safely say if Arsenal continue on maintaining this avg points per game , we could make the top 4 depending on how the other teams around us fare. So not an easy ride for us gooners till the end of the season. \n",
    "So, what is the safety that we should target? There are 15 matches remaining for Arsenal in the league . Therefore if we are able to pickup 30 points from this possible 45 ( avg of 2 points per game ), which brings us to a total of 72 points , we can more than safely assume a guaranteed top 4 barring any remarkable turnaround from other teams."
   ]
  },
  {
   "cell_type": "markdown",
   "id": "49476f35-a6a6-4fd7-9024-b2e6fd67b59f",
   "metadata": {},
   "source": [
    "So now my task is to find whether Arsenal have been able to maintain an avg points per game of 2 in a run of 15 straight games or more i.e. a good run of form in the last 5 seasons that Arsenal have been out of the Champions League"
   ]
  },
  {
   "cell_type": "markdown",
   "id": "6d9f2997-8191-4b48-9ddb-aec69d96a47b",
   "metadata": {},
   "source": [
    "SEASON 2021-2022 : Current season"
   ]
  },
  {
   "cell_type": "code",
   "execution_count": 6,
   "id": "1647f923-9ec1-41c9-8369-bc7e64dace5b",
   "metadata": {},
   "outputs": [
    {
     "name": "stdout",
     "output_type": "stream",
     "text": [
      "LLLWWWDDWWWLWLLWWWWLDWW\n"
     ]
    }
   ],
   "source": [
    "Form_21_22 = \"LLLWWWDDWWWLWLLWWWWLDWW\"\n",
    "print(Form_21_22)"
   ]
  },
  {
   "cell_type": "code",
   "execution_count": 7,
   "id": "0bd5fe74-e1bf-497a-b0d9-4344a480cca1",
   "metadata": {},
   "outputs": [
    {
     "name": "stdout",
     "output_type": "stream",
     "text": [
      "['L', 'L', 'L', 'W', 'W', 'W', 'D', 'D', 'W', 'W', 'W', 'L', 'W', 'L', 'L', 'W', 'W', 'W', 'W', 'L', 'D', 'W', 'W']\n"
     ]
    }
   ],
   "source": [
    "List_21_22 = list(Form_21_22)\n",
    "print(List_21_22)"
   ]
  },
  {
   "cell_type": "code",
   "execution_count": 8,
   "id": "521315ba-1372-47e2-b620-162abe7d2179",
   "metadata": {},
   "outputs": [
    {
     "name": "stdout",
     "output_type": "stream",
     "text": [
      "[0, 0, 0, 3, 3, 3, 1, 1, 3, 3, 3, 0, 3, 0, 0, 3, 3, 3, 3, 0, 1, 3, 3]\n"
     ]
    }
   ],
   "source": [
    "def convert(Lis) :\n",
    "    for i in range(len(Lis)):\n",
    "        if Lis[i] == 'W':\n",
    "             Lis[i] = 3\n",
    "        elif Lis[i] == 'L':\n",
    "             Lis[i] = 0\n",
    "        else :\n",
    "             Lis[i] = 1\n",
    "    print(Lis)\n",
    "convert(List_21_22)\n"
   ]
  },
  {
   "cell_type": "code",
   "execution_count": 9,
   "id": "4d3fcfa3-e9d3-465e-888c-3b8851d7c02f",
   "metadata": {},
   "outputs": [
    {
     "name": "stdout",
     "output_type": "stream",
     "text": [
      "|Matchday 4 to Matchday 18| Points accumulated = 32\n",
      "|Matchday 5 to Matchday 19| Points accumulated = 32\n",
      "2\n"
     ]
    }
   ],
   "source": [
    "\n",
    "def count(liste) :\n",
    "    c = 0\n",
    "    for i in range(len(liste)):\n",
    "        sum = 0\n",
    "        if i + 15 < len(liste):\n",
    "            for j in range(i,i+15):\n",
    "                sum = sum + liste[j]\n",
    "            if ( sum >= 30):\n",
    "                c = c +1\n",
    "                print(\"|Matchday \" + str(i+1) + \" to Matchday \" +str(j+1) + \"| Points accumulated = \" + str(sum))\n",
    "    print(c)\n",
    "\n",
    "count(List_21_22)"
   ]
  },
  {
   "cell_type": "markdown",
   "id": "b1dc5f0d-7447-4fd1-97d5-dfd95b23415b",
   "metadata": {},
   "source": [
    "As we can see that the run of games are just next to each other so we combine and calculate the avg points"
   ]
  },
  {
   "cell_type": "code",
   "execution_count": 39,
   "id": "cfd150b8-0be2-4449-91cd-2c345db66116",
   "metadata": {},
   "outputs": [
    {
     "name": "stdout",
     "output_type": "stream",
     "text": [
      "Points accumulated from game no 4 to 19 = 35\n",
      "Avg Points per game in this run = 2.19\n"
     ]
    }
   ],
   "source": [
    "import numpy as np\n",
    "a = np.array(List_21_22)\n",
    "result = np.sum(a[3:19])\n",
    "print(\"Points accumulated from game no 4 to 19 = \" + str(result))\n",
    "print(\"Avg Points per game in this run = \" + str(round(result/16,2)))\n"
   ]
  },
  {
   "cell_type": "markdown",
   "id": "f9bb2a11-f148-4e71-aa2d-ed067be507d2",
   "metadata": {},
   "source": [
    "SEASON 2020-2021 "
   ]
  },
  {
   "cell_type": "code",
   "execution_count": 10,
   "id": "97551e67-f603-49ae-ad6a-1e9a0afa9f0d",
   "metadata": {},
   "outputs": [],
   "source": [
    "Form_20_21 = \"WWLWLLWLDLLLDLWWWDWWDLLWLWDWDLWDLWWWWW\"\n",
    "List_20_21 = list(Form_20_21)"
   ]
  },
  {
   "cell_type": "code",
   "execution_count": 11,
   "id": "7f7fcda1-bf5e-4657-80f2-ec8107f0f273",
   "metadata": {},
   "outputs": [
    {
     "name": "stdout",
     "output_type": "stream",
     "text": [
      "[3, 3, 0, 3, 0, 0, 3, 0, 1, 0, 0, 0, 1, 0, 3, 3, 3, 1, 3, 3, 1, 0, 0, 3, 0, 3, 1, 3, 1, 0, 3, 1, 0, 3, 3, 3, 3, 3]\n"
     ]
    }
   ],
   "source": [
    "convert(List_20_21)"
   ]
  },
  {
   "cell_type": "code",
   "execution_count": 12,
   "id": "f76ca33b-63d2-42a1-8b50-be21bd08f021",
   "metadata": {},
   "outputs": [
    {
     "name": "stdout",
     "output_type": "stream",
     "text": [
      "0\n"
     ]
    }
   ],
   "source": [
    "count(List_20_21)"
   ]
  },
  {
   "cell_type": "code",
   "execution_count": 13,
   "id": "8b31aa33-da8c-4008-8dde-ff6e2799ce40",
   "metadata": {},
   "outputs": [],
   "source": [
    "Form_19_20 = \"WWLDDWDWLDDLDDLWLDDLWDDDDWWWLLWWWDLWLW\"\n",
    "List_19_20 = list(Form_19_20)"
   ]
  },
  {
   "cell_type": "code",
   "execution_count": 14,
   "id": "047eb895-fa4d-4b42-a20b-75507cb553ad",
   "metadata": {},
   "outputs": [
    {
     "name": "stdout",
     "output_type": "stream",
     "text": [
      "[3, 3, 0, 1, 1, 3, 1, 3, 0, 1, 1, 0, 1, 1, 0, 3, 0, 1, 1, 0, 3, 1, 1, 1, 1, 3, 3, 3, 0, 0, 3, 3, 3, 1, 0, 3, 0, 3]\n"
     ]
    }
   ],
   "source": [
    "convert(List_19_20)"
   ]
  },
  {
   "cell_type": "code",
   "execution_count": 15,
   "id": "d44b45b8-d019-440e-8349-44e96cc5d4a3",
   "metadata": {},
   "outputs": [
    {
     "name": "stdout",
     "output_type": "stream",
     "text": [
      "0\n"
     ]
    }
   ],
   "source": [
    "count(List_19_20)"
   ]
  },
  {
   "cell_type": "code",
   "execution_count": 18,
   "id": "fd110c15-1be4-4858-ba6c-d880fbefd1f0",
   "metadata": {},
   "outputs": [],
   "source": [
    "Form_18_19 = \"LLWWWWWWWDDDWWDWLWDLWLWWLWWWDWWLWLLLDW\"\n",
    "List_18_19 = list(Form_18_19)"
   ]
  },
  {
   "cell_type": "code",
   "execution_count": 54,
   "id": "41afb992-2d07-45e6-bdba-2273d35a78a1",
   "metadata": {},
   "outputs": [
    {
     "name": "stdout",
     "output_type": "stream",
     "text": [
      "[0, 0, 3, 3, 3, 3, 3, 3, 3, 1, 1, 1, 3, 3, 1, 3, 0, 3, 1, 0, 3, 0, 3, 3, 0, 3, 3, 3, 1, 3, 3, 0, 3, 0, 0, 0, 1, 3]\n"
     ]
    }
   ],
   "source": [
    "convert(List_18_19)"
   ]
  },
  {
   "cell_type": "code",
   "execution_count": 55,
   "id": "5af24563-71fc-4138-bd6b-a9a835572c9d",
   "metadata": {},
   "outputs": [
    {
     "name": "stdout",
     "output_type": "stream",
     "text": [
      "|Matchday 1 to Matchday 15| Points accumulated = 31\n",
      "|Matchday 2 to Matchday 16| Points accumulated = 34\n",
      "|Matchday 3 to Matchday 17| Points accumulated = 34\n",
      "|Matchday 4 to Matchday 18| Points accumulated = 34\n",
      "|Matchday 5 to Matchday 19| Points accumulated = 32\n",
      "5\n"
     ]
    }
   ],
   "source": [
    "count(List_18_19)"
   ]
  },
  {
   "cell_type": "code",
   "execution_count": 59,
   "id": "17555984-c70d-4441-9814-e0270a1cab33",
   "metadata": {},
   "outputs": [
    {
     "name": "stdout",
     "output_type": "stream",
     "text": [
      "Points accumulated from game no 1 to 19 = 38\n",
      "Avg Points per game in this run = 2.0\n"
     ]
    }
   ],
   "source": [
    "i = 0\n",
    "s = 0\n",
    "while i < 19:\n",
    "    s = s + List_18_19[i]\n",
    "    i = i + 1\n",
    "print(\"Points accumulated from game no 1 to 19 = \" + str(s))\n",
    "print(\"Avg Points per game in this run = \" + str(round(s/19,2)))"
   ]
  },
  {
   "cell_type": "code",
   "execution_count": 23,
   "id": "cac4a70c-828f-4fbe-8ec4-66be9625b788",
   "metadata": {},
   "outputs": [],
   "source": [
    "Form_17_18 = \"WLLWDWWLWWLWWWLDDWDWDDLWLWLLLWWWLWLWLW\"\n",
    "List_17_18 = list(Form_17_18)"
   ]
  },
  {
   "cell_type": "code",
   "execution_count": 24,
   "id": "e105ebc8-cd2f-42e3-ac14-fcac7f978480",
   "metadata": {},
   "outputs": [
    {
     "name": "stdout",
     "output_type": "stream",
     "text": [
      "[3, 0, 0, 3, 1, 3, 3, 0, 3, 3, 0, 3, 3, 3, 0, 1, 1, 3, 1, 3, 1, 1, 0, 3, 0, 3, 0, 0, 0, 3, 3, 3, 0, 3, 0, 3, 0, 3]\n"
     ]
    }
   ],
   "source": [
    "convert(List_17_18)"
   ]
  },
  {
   "cell_type": "code",
   "execution_count": 26,
   "id": "1cd696be-0482-43a2-8d84-62881bd0dc38",
   "metadata": {},
   "outputs": [
    {
     "name": "stdout",
     "output_type": "stream",
     "text": [
      "|Matchday 4 to Matchday 18| Points accumulated = 30\n",
      "|Matchday 6 to Matchday 20| Points accumulated = 30\n",
      "2\n"
     ]
    }
   ],
   "source": [
    "count(List_17_18)"
   ]
  },
  {
   "cell_type": "code",
   "execution_count": 61,
   "id": "4648bec5-ea3b-418d-a3fe-6689200d9e2c",
   "metadata": {},
   "outputs": [
    {
     "name": "stdout",
     "output_type": "stream",
     "text": [
      "Points accumulated from game no 4 to 20 = 34\n",
      "Avg Points per game in this run = 2.0\n"
     ]
    }
   ],
   "source": [
    "i = 3\n",
    "s = 0\n",
    "while i < 20:\n",
    "    s = s + List_17_18[i]\n",
    "    i = i + 1\n",
    "print(\"Points accumulated from game no 4 to 20 = \" + str(s))\n",
    "print(\"Avg Points per game in this run = \" + str(round(s/17,2)))"
   ]
  },
  {
   "cell_type": "code",
   "execution_count": 27,
   "id": "9a4e9307-81a9-4326-8964-3f88bd026964",
   "metadata": {},
   "outputs": [],
   "source": [
    "Form_16_17 = \"LDWWWWWWDWDDWWWLLWWDWWLLWLLDWLWWLWWWWW\"\n",
    "List_16_17 = list(Form_16_17)"
   ]
  },
  {
   "cell_type": "code",
   "execution_count": 28,
   "id": "755edc41-a0bf-4af7-8c09-c9a1538cc7ba",
   "metadata": {},
   "outputs": [
    {
     "name": "stdout",
     "output_type": "stream",
     "text": [
      "[0, 1, 3, 3, 3, 3, 3, 3, 1, 3, 1, 1, 3, 3, 3, 0, 0, 3, 3, 1, 3, 3, 0, 0, 3, 0, 0, 1, 3, 0, 3, 3, 0, 3, 3, 3, 3, 3]\n"
     ]
    }
   ],
   "source": [
    "convert(List_16_17)"
   ]
  },
  {
   "cell_type": "code",
   "execution_count": 29,
   "id": "a3890e92-3fc5-478a-ba44-c18782053647",
   "metadata": {},
   "outputs": [
    {
     "name": "stdout",
     "output_type": "stream",
     "text": [
      "|Matchday 1 to Matchday 15| Points accumulated = 34\n",
      "|Matchday 2 to Matchday 16| Points accumulated = 34\n",
      "|Matchday 3 to Matchday 17| Points accumulated = 33\n",
      "|Matchday 4 to Matchday 18| Points accumulated = 33\n",
      "|Matchday 5 to Matchday 19| Points accumulated = 33\n",
      "|Matchday 6 to Matchday 20| Points accumulated = 31\n",
      "|Matchday 7 to Matchday 21| Points accumulated = 31\n",
      "|Matchday 8 to Matchday 22| Points accumulated = 31\n",
      "8\n"
     ]
    }
   ],
   "source": [
    "count(List_16_17)"
   ]
  },
  {
   "cell_type": "code",
   "execution_count": 62,
   "id": "c9f3e9bb-3f3f-4fd8-963c-b15e2caf54c2",
   "metadata": {},
   "outputs": [
    {
     "name": "stdout",
     "output_type": "stream",
     "text": [
      "Points accumulated from game no 1 to 22 = 47\n",
      "Avg Points per game in this run = 2.14\n"
     ]
    }
   ],
   "source": [
    "i = 0\n",
    "s = 0\n",
    "while i < 22:\n",
    "    s = s + List_16_17[i]\n",
    "    i = i + 1\n",
    "print(\"Points accumulated from game no 1 to 22 = \" + str(s))\n",
    "print(\"Avg Points per game in this run = \" + str(round(s/22,2)))"
   ]
  },
  {
   "cell_type": "markdown",
   "id": "5382ccfa-cd5f-4401-846c-1e4af3e1a94e",
   "metadata": {},
   "source": [
    "As we can see from , Arsenal have gone on this run of form 4 times in the last 6 seasons including the current one:\n",
    "\n",
    "\n"
   ]
  },
  {
   "cell_type": "markdown",
   "id": "299b510f-10cc-433a-b54d-4483f0c5fcc1",
   "metadata": {},
   "source": [
    "21-22 : || Points accumulated from game no 4 to 19 = 35||          || Points per game in this run = 2.19 ||\n"
   ]
  },
  {
   "cell_type": "markdown",
   "id": "5c8f374c-95c9-4007-85fd-dd921d49fc34",
   "metadata": {},
   "source": [
    "18-19 : || Points accumulated from game no 1 to 19 = 38 || ||Points per game in this run = 2.0 ||\n"
   ]
  },
  {
   "cell_type": "markdown",
   "id": "794c6873-3a0b-4312-b765-e20023ad5001",
   "metadata": {},
   "source": [
    "17-18 : || Points accumulated from game no 4 to 20 = 34 ||\n",
    "||Points per game in this run = 2.0||\n"
   ]
  },
  {
   "cell_type": "markdown",
   "id": "2e0e6f27-f601-4039-8eb3-d18c0acc3666",
   "metadata": {},
   "source": [
    "\n",
    "16-17 : || Points accumulated from game no 1 to 22 = 47 ||\n",
    "        || Points per game in this run = 2.14 ||"
   ]
  },
  {
   "cell_type": "code",
   "execution_count": null,
   "id": "e4e3f0b0-79bf-428a-b5e7-487ad2b610ae",
   "metadata": {},
   "outputs": [],
   "source": []
  }
 ],
 "metadata": {
  "kernelspec": {
   "display_name": "Python 3 (ipykernel)",
   "language": "python",
   "name": "python3"
  },
  "language_info": {
   "codemirror_mode": {
    "name": "ipython",
    "version": 3
   },
   "file_extension": ".py",
   "mimetype": "text/x-python",
   "name": "python",
   "nbconvert_exporter": "python",
   "pygments_lexer": "ipython3",
   "version": "3.9.7"
  }
 },
 "nbformat": 4,
 "nbformat_minor": 5
}
